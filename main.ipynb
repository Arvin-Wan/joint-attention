{
 "cells": [
  {
   "cell_type": "markdown",
   "metadata": {},
   "source": [
    "# CTRAN Model"
   ]
  },
  {
   "cell_type": "code",
   "execution_count": null,
   "metadata": {},
   "outputs": [],
   "source": [
    "from ctran_model import Model\n",
    "import logging\n",
    "import torch\n",
    "import numpy as np\n",
    "import torch.optim as optim\n",
    "# from tqdm.contrib.logging import logging_redirect_tqdm\n",
    "\n",
    "from Ctran_data import tokenize_dataset"
   ]
  },
  {
   "cell_type": "code",
   "execution_count": null,
   "metadata": {},
   "outputs": [],
   "source": [
    "\n",
    "# in this section we define static values and variables for ease of access and testing\n",
    "_fn=\"final\" # file unique id for saving and loading models\n",
    "bert_base='./pretrain/bert-base-uncased/'\n",
    "bert_large='./pretrain/bert-large-uncased/'\n",
    "deberta_base = \"./pretrain/deberta-v3-large\"\n",
    "\n",
    "snips_train=\"./dataset/snips_train.iob\"\n",
    "snips_test=\"./dataset/snips_test.iob\"\n",
    "atis_train=\"./dataset/atis-2.train.w-intent.iob\"\n",
    "atis_test=\"./dataset/atis-2.test.w-intent.iob\"\n",
    "#ENV variables directly affect the model's behaviour\n",
    "ENV_DATASET_TRAIN=atis_train\n",
    "ENV_DATASET_TEST=atis_test\n",
    "\n",
    "ENV_BERT_ID_CLS=False # use cls token for id classification\n",
    "ENV_EMBEDDING_SIZE=768  # dimention of embbeding, bertbase=768,bertlarge&elmo=1024\n",
    "ENV_BERT_ADDR=bert_base\n",
    "ENV_SEED=1331\n",
    "ENV_HIDDEN_SIZE=ENV_EMBEDDING_SIZE\n",
    "ENV_CNN_FILTERS=ENV_HIDDEN_SIZE // 4  #128\n",
    "ENV_CNN_KERNELS=4\n",
    "DEPTH = 4\n",
    "\n",
    "#these are related to training\n",
    "BATCH_SIZE=32\n",
    "LENGTH=60\n",
    "STEP_SIZE=50\n",
    "\n",
    "logging.basicConfig(\n",
    "    level=logging.INFO,\n",
    "    format='%(asctime)s - %(levelname)s - %(message)s',\n",
    "    handlers=[\n",
    "        logging.FileHandler(\"logs/training.log\"),\n",
    "        logging.StreamHandler()\n",
    "    ]\n",
    ")\n",
    "\n",
    "# you must use cuda to run this code. if this returns false, you can not proceed.\n",
    "USE_CUDA = torch.cuda.is_available()\n",
    "\n",
    "if USE_CUDA:\n",
    "    print(\"You are using cuda. Good!\")\n",
    "    torch.cuda.manual_seed(ENV_SEED)\n",
    "    torch.backends.cudnn.deterministic = True\n",
    "    torch.backends.cudnn.benchmark = False\n",
    "else:\n",
    "    torch.manual_seed(ENV_SEED)\n",
    "    print('You are NOT using cuda! Some problems may occur.')\n",
    "np.random.seed(ENV_SEED)\n",
    "# random.seed(ENV_SEED)\n",
    "torch.backends.cudnn.deterministic = True\n",
    "torch.backends.cudnn.benchmark = False"
   ]
  },
  {
   "cell_type": "code",
   "execution_count": null,
   "metadata": {},
   "outputs": [],
   "source": [
    "# Data\n",
    "train,train_subtoken_mask,train_toks = tokenize_dataset(ENV_DATASET_TRAIN)\n",
    "test, test_subtoken_mask, test_toks = tokenize_dataset(ENV_DATASET_TEST)\n",
    "\n",
    "train_data=NLUDataset(sin,sout,intent,train_toks['input_ids'],train_toks['attention_mask'],train_toks['token_type_ids'],train_subtoken_mask)\n",
    "test_data=NLUDataset(sin_test,sout_test,intent_test,test_toks['input_ids'],test_toks['attention_mask'],test_toks['token_type_ids'],test_subtoken_mask)\n",
    "train_data = DataLoader(train_data, batch_size=BATCH_SIZE, shuffle=True)\n",
    "test_data = DataLoader(test_data, batch_size=BATCH_SIZE, shuffle=False)"
   ]
  },
  {
   "cell_type": "code",
   "execution_count": null,
   "metadata": {},
   "outputs": [],
   "source": [
    "model = Model()\n",
    "if USE_CUDA:\n",
    "    model.cuda()\n",
    "optimizer = optim.AdamW(model.parameters(), lr=0.0001,weight_decay=0.8)\n",
    "scheduler = torch.optim.lr_scheduler.StepLR(optimizer, 1, gamma=0.96)"
   ]
  }
 ],
 "metadata": {
  "kernelspec": {
   "display_name": "temp",
   "language": "python",
   "name": "temp"
  },
  "language_info": {
   "name": "python",
   "version": "3.9.0"
  }
 },
 "nbformat": 4,
 "nbformat_minor": 2
}
